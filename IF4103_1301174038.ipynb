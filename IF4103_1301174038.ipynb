{
 "cells": [
  {
   "cell_type": "markdown",
   "metadata": {},
   "source": [
    "__IMPORT LIBRARY__"
   ]
  },
  {
   "cell_type": "code",
   "execution_count": 5,
   "metadata": {},
   "outputs": [],
   "source": [
    "import csv\n",
    "import sys\n",
    "import math\n",
    "import matplotlib.pyplot as plt\n",
    "import pandas as pd\n",
    "import numpy"
   ]
  },
  {
   "cell_type": "markdown",
   "metadata": {},
   "source": [
    "__PLOTING DATAAA__"
   ]
  },
  {
   "cell_type": "code",
   "execution_count": 6,
   "metadata": {},
   "outputs": [
    {
     "data": {
      "image/png": "[encoded data removed]",
      "text/plain": [
       "<Figure size 432x288 with 1 Axes>"
      ]
     },
     "metadata": {
      "needs_background": "light"
     },
     "output_type": "display_data"
    }
   ],
   "source": [
    "influencers = pd.read_csv(\"influencers.csv\") #turn in data .csv to make a plot\n",
    "fig, ax = plt.subplots()\n",
    "ax.scatter(influencers[\"followerCount\"], influencers[\"engagementRate\"]) #coloumn names \n",
    "for i, txt in enumerate(influencers[\"id\"]):\n",
    "    ax.annotate(txt, (influencers[\"followerCount\"][i], influencers[\"engagementRate\"][i]))\n",
    "plt.title('Plot Influencers')\n",
    "plt.show()"
   ]
  },
  {
   "cell_type": "markdown",
   "metadata": {},
   "source": [
    "__FUZZIFICATION YOYOY__"
   ]
  },
  {
   "cell_type": "code",
   "execution_count": 7,
   "metadata": {},
   "outputs": [],
   "source": [
    "# fuzzification for Followers Count (using trapezium diagram)\n",
    "# with a=0 b=19023 c=38407 d=57070 e=76904 f=95117\n",
    "def followersCount(x):\n",
    "    low = 0 \n",
    "    avg = 0\n",
    "    high = 0\n",
    "    \n",
    "    if (x <= 19023): #jika nilai x berada di grafik kurang dari sama dengan 19023\n",
    "        low = 1\n",
    "    elif(19023 <= x <= 38047): #jika nilai x berada diantara grafik turun low dan naik avg \n",
    "        low = ((x - 19023) / (38047 - 19023))\n",
    "        avg = ((38047 - x) / (38407 - 19023))\n",
    "    elif(38047 <= x <= 57070): #jika nilai x berada di grafik medium\n",
    "        avg = 1\n",
    "    elif(57070 <= x <= 76094): #jika nilai x berada diantara grafik turun avg dan naik high\n",
    "        avg = ((x - 57070) / (76094 - 57070))\n",
    "        high = ((76094 - x) / (76094 - 19023))\n",
    "    elif (x >= 76904):\n",
    "        high = 1\n",
    "    return low, avg, high"
   ]
  },
  {
   "cell_type": "code",
   "execution_count": 8,
   "metadata": {},
   "outputs": [],
   "source": [
    "# print(followersCount(21126))"
   ]
  },
  {
   "cell_type": "code",
   "execution_count": 9,
   "metadata": {},
   "outputs": [],
   "source": [
    "# fuzzification for Engagement Rate (using trapezium diagram)\n",
    "# with a=0 b=0.1 c=1.7 d=3.4 e=5.1 f=6.8\n",
    "def engagementRate(y):\n",
    "    bottom = 0\n",
    "    middle = 0 \n",
    "    upper = 0\n",
    "    if (y <= 0.1): #jika nilai y berada di grafik kurang dari sama dengan 0.1\n",
    "        bottom = 1\n",
    "    elif (0.1 <= y <= 1.7): #jika nilai y berada diantara grafik turun bottom dan naik middle\n",
    "        bottom = ((y - 0.1) / (1.7 - 0.1))\n",
    "        middle = ((1.7 - y) / (1.7 - 0.1))\n",
    "    elif (1,7 <= y <= 3.4): #jika nilai y berada di grafik medium\n",
    "        middle = 1\n",
    "    elif (3.4 <= x <= 5.1): #jika nilai y berada di antara grafik turun middle dan naik upper\n",
    "        middle = ((y - 3.4) / (5.1 - 3.4))\n",
    "        upper = ((5.1 - y) / (5.1 - 3.4)) \n",
    "    elif (y >= 5.1): \n",
    "        upper = 1\n",
    "    return bottom, middle, upper"
   ]
  },
  {
   "cell_type": "code",
   "execution_count": 10,
   "metadata": {},
   "outputs": [],
   "source": [
    "# print(engagementRate(0.8))"
   ]
  },
  {
   "cell_type": "markdown",
   "metadata": {},
   "source": [
    "__INFERENCE__"
   ]
  },
  {
   "cell_type": "code",
   "execution_count": 11,
   "metadata": {},
   "outputs": [],
   "source": [
    "#nentuin datanya patut tak buat di acc, consider, or rejected.\n",
    "def inference(lowF, avgF, highF, bottomE, middleE, upperE):\n",
    "    rule = [[min(lowF, upperE), 'acc'], [min(avgF, upperE), 'acc'], [min(highF, middleE),'acc'], [min(highF, upperE), 'acc'],\n",
    "           [min(avgF, middleE), 'cons'], [min(highF, bottomE), 'cons'], [min(lowF, bottomE), 'cons'],\n",
    "           [min(avgF, bottomE), 'reject'], [min(lowF, middleE), 'reject']]\n",
    "            \n",
    "    acc = []\n",
    "    cons = []\n",
    "    reject = []\n",
    "    \n",
    "    for i in range(len(rule)):\n",
    "        if rule[i][1] == 'acc':\n",
    "            acc.append(rule[i][0])\n",
    "        elif rule[i][1] == 'cons':\n",
    "            cons.append(rule[i][0])\n",
    "        elif rule[i][1] == 'reject':\n",
    "            reject.append(rule[i][0])\n",
    "    return max(acc), max(cons), max(reject)"
   ]
  },
  {
   "cell_type": "code",
   "execution_count": 12,
   "metadata": {},
   "outputs": [],
   "source": [
    "# print(lowF, avgF, highF, bottomE, middleE, upperE)"
   ]
  },
  {
   "cell_type": "markdown",
   "metadata": {},
   "source": [
    "__DEFUZZIFICATION USING SUGENO__"
   ]
  },
  {
   "cell_type": "code",
   "execution_count": 13,
   "metadata": {},
   "outputs": [],
   "source": [
    "#menentukan nilai defuzzifikasi\n",
    "def defuzzification(accept, consider, rejected):\n",
    "\n",
    "    nacc = 100\n",
    "    ncons = 75\n",
    "    nreject = 50\n",
    "    hasilDef = ((accept * nacc) + (consider * ncons) + (rejected * nreject)) / (accept+consider+rejected)\n",
    "    return hasilDef"
   ]
  },
  {
   "cell_type": "markdown",
   "metadata": {},
   "source": [
    "__GET ELEMENT__"
   ]
  },
  {
   "cell_type": "code",
   "execution_count": 14,
   "metadata": {},
   "outputs": [],
   "source": [
    "# memanggil elemen agar bisa masuk ke csv file\n",
    "def getElm(who):\n",
    "    return who[1]"
   ]
  },
  {
   "cell_type": "markdown",
   "metadata": {},
   "source": [
    "__MAIN PROGRAM__"
   ]
  },
  {
   "cell_type": "code",
   "execution_count": 16,
   "metadata": {},
   "outputs": [
    {
     "name": "stdout",
     "output_type": "stream",
     "text": [
      "[[11, 100.0], [13, 100.0], [25, 100.0], [41, 100.0], [75, 100.0], [60, 95.39079892903467], [59, 93.71016210409289], [72, 88.16567259164782], [2, 75.0], [19, 75.0], [50, 75.0], [53, 75.0], [58, 75.0], [61, 75.0], [76, 75.0], [83, 75.0], [88, 74.22516676027442], [48, 73.79330702601092], [46, 73.4375], [78, 73.39111138674726], [80, 73.15071064064445], [51, 72.18996672828897], [73, 72.06997028988444], [49, 71.875], [55, 71.875], [69, 71.875], [91, 70.89247704211007], [74, 70.50132464163913], [79, 70.3125], [89, 69.9602075197204], [94, 68.75], [6, 68.30235119817895], [22, 67.1875], [33, 67.1875], [37, 67.1875], [45, 67.1875], [71, 66.83243240060466], [85, 66.58643723024846], [84, 66.10264624717257], [56, 65.76989536963977], [31, 65.625], [86, 65.04243924440233], [26, 64.552520891311], [1, 64.0625], [21, 64.0625], [44, 64.0625], [98, 63.85352484814696], [93, 63.537540280990434], [23, 63.19802366438754], [16, 62.50000000000001], [17, 62.50000000000001], [40, 62.50000000000001], [47, 62.50000000000001], [66, 62.50000000000001], [97, 62.50000000000001], [12, 62.365754944901205], [68, 62.33459020049679], [18, 60.93750000000001], [42, 60.86818704556408], [43, 60.66631891389865], [38, 60.05715316603878], [36, 59.9118217887033], [52, 59.375], [57, 59.375], [64, 59.375], [96, 59.375], [67, 58.312656511535906], [3, 57.81250000000001], [81, 57.8125], [7, 56.25], [24, 56.25], [29, 56.25], [62, 55.96469593382771], [65, 54.68971864317644], [4, 54.6875], [63, 54.6875], [14, 54.316575511363226], [9, 51.56249999999999], [82, 51.56249999999999], [5, 50.0], [8, 50.0], [10, 50.0], [15, 50.0], [20, 50.0], [27, 50.0], [28, 50.0], [30, 50.0], [32, 50.0], [34, 50.0], [35, 50.0], [39, 50.0], [54, 50.0], [70, 50.0], [77, 50.0], [87, 50.0], [90, 50.0], [92, 50.0], [95, 50.0], [99, 50.0], [100, 50.0]]\n",
      "[11, 13, 25, 41, 75, 60, 59, 72, 2, 19, 50, 53, 58, 61, 76, 83, 88, 48, 46, 78]\n"
     ]
    }
   ],
   "source": [
    "data = []\n",
    "result = []\n",
    "with open('influencers.csv', mode='r') as csv_input:\n",
    "    spamreader = csv.reader(csv_input)\n",
    "    next(spamreader, None)\n",
    "    \n",
    "    for row in spamreader:\n",
    "        data.append([int(row[0]),float(row[1]),float(row[2])])\n",
    "    \n",
    "    for i in range(len(data)):\n",
    "        lowF, avgF, highF = followersCount(data[i][1])\n",
    "        bottomE, middleE, upperE = engagementRate(data[i][2])\n",
    "        a,b,c = inference(lowF, avgF, highF, bottomE, middleE, upperE)\n",
    "        hasil = defuzzification(a,b,c)\n",
    "        #print(a,b,c)\n",
    "        result.append([i+1, hasil])\n",
    "    # sorting\n",
    "    result = sorted(result,key=lambda x:x[1],reverse=True)\n",
    "    print(result)\n",
    "    \n",
    "    resultFinal = []\n",
    "    #memilih 20 orang utk dimasukin ke csv.\n",
    "    for i in range(0, 20):\n",
    "        resultFinal.append(result[i][0])\n",
    "    print(resultFinal)\n",
    "    numpy.savetxt('chosen.csv', resultFinal, delimiter=',', fmt='%s')\n"
   ]
  }
 ],
 "metadata": {
  "kernelspec": {
   "display_name": "Python 3",
   "language": "python",
   "name": "python3"
  },
  "language_info": {
   "codemirror_mode": {
    "name": "ipython",
    "version": 3
   },
   "file_extension": ".py",
   "mimetype": "text/x-python",
   "name": "python",
   "nbconvert_exporter": "python",
   "pygments_lexer": "ipython3",
   "version": "3.7.4"
  }
 },
 "nbformat": 4,
 "nbformat_minor": 4
}
